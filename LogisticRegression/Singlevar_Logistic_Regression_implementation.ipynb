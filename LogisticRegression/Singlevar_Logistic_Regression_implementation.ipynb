{
 "cells": [
  {
   "cell_type": "code",
   "execution_count": 83,
   "id": "98621af4",
   "metadata": {},
   "outputs": [],
   "source": [
    "import pandas as pd\n",
    "import numpy as np\n",
    "import matplotlib.pyplot as plt\n",
    "import math\n",
    "import seaborn as sns\n",
    "from sklearn.model_selection import train_test_split\n",
    "from sklearn.preprocessing import StandardScaler\n",
    "from sklearn.metrics import f1_score"
   ]
  },
  {
   "cell_type": "code",
   "execution_count": 25,
   "id": "45367447",
   "metadata": {},
   "outputs": [
    {
     "data": {
      "text/html": [
       "<div>\n",
       "<style scoped>\n",
       "    .dataframe tbody tr th:only-of-type {\n",
       "        vertical-align: middle;\n",
       "    }\n",
       "\n",
       "    .dataframe tbody tr th {\n",
       "        vertical-align: top;\n",
       "    }\n",
       "\n",
       "    .dataframe thead th {\n",
       "        text-align: right;\n",
       "    }\n",
       "</style>\n",
       "<table border=\"1\" class=\"dataframe\">\n",
       "  <thead>\n",
       "    <tr style=\"text-align: right;\">\n",
       "      <th></th>\n",
       "      <th>age</th>\n",
       "      <th>bought_insurance</th>\n",
       "    </tr>\n",
       "  </thead>\n",
       "  <tbody>\n",
       "    <tr>\n",
       "      <th>0</th>\n",
       "      <td>22</td>\n",
       "      <td>0</td>\n",
       "    </tr>\n",
       "    <tr>\n",
       "      <th>1</th>\n",
       "      <td>25</td>\n",
       "      <td>0</td>\n",
       "    </tr>\n",
       "    <tr>\n",
       "      <th>2</th>\n",
       "      <td>47</td>\n",
       "      <td>1</td>\n",
       "    </tr>\n",
       "    <tr>\n",
       "      <th>3</th>\n",
       "      <td>52</td>\n",
       "      <td>0</td>\n",
       "    </tr>\n",
       "    <tr>\n",
       "      <th>4</th>\n",
       "      <td>46</td>\n",
       "      <td>1</td>\n",
       "    </tr>\n",
       "    <tr>\n",
       "      <th>5</th>\n",
       "      <td>56</td>\n",
       "      <td>1</td>\n",
       "    </tr>\n",
       "    <tr>\n",
       "      <th>6</th>\n",
       "      <td>55</td>\n",
       "      <td>0</td>\n",
       "    </tr>\n",
       "    <tr>\n",
       "      <th>7</th>\n",
       "      <td>60</td>\n",
       "      <td>1</td>\n",
       "    </tr>\n",
       "    <tr>\n",
       "      <th>8</th>\n",
       "      <td>62</td>\n",
       "      <td>1</td>\n",
       "    </tr>\n",
       "    <tr>\n",
       "      <th>9</th>\n",
       "      <td>61</td>\n",
       "      <td>1</td>\n",
       "    </tr>\n",
       "    <tr>\n",
       "      <th>10</th>\n",
       "      <td>18</td>\n",
       "      <td>0</td>\n",
       "    </tr>\n",
       "    <tr>\n",
       "      <th>11</th>\n",
       "      <td>28</td>\n",
       "      <td>0</td>\n",
       "    </tr>\n",
       "    <tr>\n",
       "      <th>12</th>\n",
       "      <td>27</td>\n",
       "      <td>0</td>\n",
       "    </tr>\n",
       "    <tr>\n",
       "      <th>13</th>\n",
       "      <td>29</td>\n",
       "      <td>0</td>\n",
       "    </tr>\n",
       "    <tr>\n",
       "      <th>14</th>\n",
       "      <td>49</td>\n",
       "      <td>1</td>\n",
       "    </tr>\n",
       "    <tr>\n",
       "      <th>15</th>\n",
       "      <td>55</td>\n",
       "      <td>1</td>\n",
       "    </tr>\n",
       "    <tr>\n",
       "      <th>16</th>\n",
       "      <td>25</td>\n",
       "      <td>1</td>\n",
       "    </tr>\n",
       "    <tr>\n",
       "      <th>17</th>\n",
       "      <td>58</td>\n",
       "      <td>1</td>\n",
       "    </tr>\n",
       "    <tr>\n",
       "      <th>18</th>\n",
       "      <td>19</td>\n",
       "      <td>0</td>\n",
       "    </tr>\n",
       "    <tr>\n",
       "      <th>19</th>\n",
       "      <td>18</td>\n",
       "      <td>0</td>\n",
       "    </tr>\n",
       "    <tr>\n",
       "      <th>20</th>\n",
       "      <td>21</td>\n",
       "      <td>0</td>\n",
       "    </tr>\n",
       "    <tr>\n",
       "      <th>21</th>\n",
       "      <td>26</td>\n",
       "      <td>0</td>\n",
       "    </tr>\n",
       "    <tr>\n",
       "      <th>22</th>\n",
       "      <td>40</td>\n",
       "      <td>1</td>\n",
       "    </tr>\n",
       "    <tr>\n",
       "      <th>23</th>\n",
       "      <td>45</td>\n",
       "      <td>1</td>\n",
       "    </tr>\n",
       "    <tr>\n",
       "      <th>24</th>\n",
       "      <td>50</td>\n",
       "      <td>1</td>\n",
       "    </tr>\n",
       "    <tr>\n",
       "      <th>25</th>\n",
       "      <td>54</td>\n",
       "      <td>1</td>\n",
       "    </tr>\n",
       "    <tr>\n",
       "      <th>26</th>\n",
       "      <td>23</td>\n",
       "      <td>0</td>\n",
       "    </tr>\n",
       "  </tbody>\n",
       "</table>\n",
       "</div>"
      ],
      "text/plain": [
       "    age  bought_insurance\n",
       "0    22                 0\n",
       "1    25                 0\n",
       "2    47                 1\n",
       "3    52                 0\n",
       "4    46                 1\n",
       "5    56                 1\n",
       "6    55                 0\n",
       "7    60                 1\n",
       "8    62                 1\n",
       "9    61                 1\n",
       "10   18                 0\n",
       "11   28                 0\n",
       "12   27                 0\n",
       "13   29                 0\n",
       "14   49                 1\n",
       "15   55                 1\n",
       "16   25                 1\n",
       "17   58                 1\n",
       "18   19                 0\n",
       "19   18                 0\n",
       "20   21                 0\n",
       "21   26                 0\n",
       "22   40                 1\n",
       "23   45                 1\n",
       "24   50                 1\n",
       "25   54                 1\n",
       "26   23                 0"
      ]
     },
     "execution_count": 25,
     "metadata": {},
     "output_type": "execute_result"
    }
   ],
   "source": [
    "df = pd.read_csv('../insurance_data.csv')\n",
    "df"
   ]
  },
  {
   "cell_type": "code",
   "execution_count": 4,
   "id": "e84433a4",
   "metadata": {},
   "outputs": [
    {
     "data": {
      "text/plain": [
       "<matplotlib.collections.PathCollection at 0x132287790>"
      ]
     },
     "execution_count": 4,
     "metadata": {},
     "output_type": "execute_result"
    },
    {
     "data": {
      "image/png": "[encoded data removed]",
      "text/plain": [
       "<Figure size 640x480 with 1 Axes>"
      ]
     },
     "metadata": {},
     "output_type": "display_data"
    }
   ],
   "source": [
    "plt.scatter(df.age, df.bought_insurance)"
   ]
  },
  {
   "cell_type": "code",
   "execution_count": 93,
   "id": "2427445a",
   "metadata": {},
   "outputs": [],
   "source": [
    "X = df['age']\n",
    "X = X.to_numpy()\n",
    "scaler = StandardScaler()\n",
    "X = X.reshape(X.shape[0], 1)\n",
    "X = scaler.fit_transform(X)\n",
    "X = np.hstack([X, np.ones((X.shape[0], 1))])\n",
    "Y = df['bought_insurance'].to_numpy()\n",
    "w = np.zeros(X.shape[1])"
   ]
  },
  {
   "cell_type": "code",
   "execution_count": 6,
   "id": "a0c0c75c",
   "metadata": {},
   "outputs": [],
   "source": [
    "def sigmoid(z):\n",
    "    return 1 / (1 + np.exp(-z))"
   ]
  },
  {
   "cell_type": "code",
   "execution_count": 80,
   "id": "4e267109",
   "metadata": {},
   "outputs": [],
   "source": [
    "def gradient_descent(X, Y, w):\n",
    "    costs = []\n",
    "    for i in range(10000):\n",
    "        Y_pred = sigmoid(comp_z(X, w))\n",
    "        Y_pred = np.clip(Y_pred, 1e-15, 1 - 1e-15)\n",
    "        cost = -np.mean(Y * np.log(Y_pred) + (1 - Y) * np.log(1 - Y_pred))\n",
    "        grad_vect = np.dot(X.T, Y_pred - Y) / X.shape[0]\n",
    "        w = w - 0.0001 * grad_vect\n",
    "        if (i % 100 == 0):\n",
    "            ite.append(i)\n",
    "            costs.append(cost)\n",
    "            print(cost)\n",
    "    return w, costs"
   ]
  },
  {
   "cell_type": "code",
   "execution_count": 52,
   "id": "803ae016-2384-4ed4-9e0a-73fac1d91a6c",
   "metadata": {},
   "outputs": [],
   "source": [
    "def comp_z(X, w):\n",
    "    return np.dot(X, w)"
   ]
  },
  {
   "cell_type": "code",
   "execution_count": 94,
   "id": "f430d31c",
   "metadata": {
    "scrolled": true
   },
   "outputs": [
    {
     "name": "stdout",
     "output_type": "stream",
     "text": [
      "0.6931471805599451\n",
      "0.6918079195067052\n",
      "0.6904753380936027\n",
      "0.689149402914674\n",
      "0.6878300806716027\n",
      "0.6865173381745282\n",
      "0.6852111423428261\n",
      "0.683911460205869\n",
      "0.6826182589037687\n",
      "0.6813315056880914\n",
      "0.6800511679225543\n",
      "0.6787772130837024\n",
      "0.677509608761561\n",
      "0.6762483226602712\n",
      "0.6749933225987017\n",
      "0.6737445765110434\n",
      "0.6725020524473806\n",
      "0.6712657185742473\n",
      "0.6700355431751583\n",
      "0.6688114946511264\n",
      "0.6675935415211567\n",
      "0.666381652422723\n",
      "0.6651757961122283\n",
      "0.663975941465443\n",
      "0.6627820574779277\n",
      "0.6615941132654368\n",
      "0.6604120780643052\n",
      "0.6592359212318184\n",
      "0.6580656122465623\n",
      "0.6569011207087601\n",
      "0.6557424163405898\n",
      "0.6545894689864858\n",
      "0.6534422486134249\n",
      "0.6523007253111958\n",
      "0.651164869292652\n",
      "0.6500346508939516\n",
      "0.6489100405747783\n",
      "0.6477910089185502\n",
      "0.6466775266326126\n",
      "0.645569564548415\n",
      "0.6444670936216764\n",
      "0.6433700849325327\n",
      "0.6422785096856745\n",
      "0.6411923392104659\n",
      "0.6401115449610552\n",
      "0.6390360985164668\n",
      "0.6379659715806847\n",
      "0.6369011359827202\n",
      "0.6358415636766672\n",
      "0.634787226741746\n",
      "0.6337380973823336\n",
      "0.6326941479279827\n",
      "0.6316553508334287\n",
      "0.6306216786785842\n",
      "0.6295931041685227\n",
      "0.628569600133451\n",
      "0.6275511395286704\n",
      "0.6265376954345258\n",
      "0.625529241056347\n",
      "0.6245257497243761\n",
      "0.6235271948936858\n",
      "0.6225335501440894\n",
      "0.6215447891800372\n",
      "0.6205608858305065\n",
      "0.6195818140488802\n",
      "0.6186075479128158\n",
      "0.6176380616241066\n",
      "0.6166733295085323\n",
      "0.6157133260157016\n",
      "0.6147580257188859\n",
      "0.6138074033148443\n",
      "0.6128614336236403\n",
      "0.6119200915884504\n",
      "0.6109833522753647\n",
      "0.6100511908731795\n",
      "0.6091235826931819\n",
      "0.6082005031689278\n",
      "0.6072819278560118\n",
      "0.6063678324318293\n",
      "0.6054581926953332\n",
      "0.6045529845667824\n",
      "0.603652184087484\n",
      "0.6027557674195277\n",
      "0.6018637108455173\n",
      "0.6009759907682906\n",
      "0.6000925837106382\n",
      "0.599213466315013\n",
      "0.5983386153432346\n",
      "0.5974680076761897\n",
      "0.596601620313524\n",
      "0.5957394303733309\n",
      "0.5948814150918338\n",
      "0.5940275518230644\n",
      "0.5931778180385336\n",
      "0.5923321913269001\n",
      "0.5914906493936328\n",
      "0.590653170060669\n",
      "0.5898197312660672\n",
      "0.5889903110636574\n",
      "0.5881648876226845\n"
     ]
    }
   ],
   "source": [
    "new_w, costs = gradient_descent(X, Y, w)"
   ]
  },
  {
   "cell_type": "code",
   "execution_count": 95,
   "id": "bf27646f",
   "metadata": {},
   "outputs": [
    {
     "data": {
      "text/plain": [
       "0.8888888888888888"
      ]
     },
     "execution_count": 95,
     "metadata": {},
     "output_type": "execute_result"
    }
   ],
   "source": [
    "y_pred = sigmoid(comp_z(X, new_w))\n",
    "y_pred = (y_pred > 0.5).astype(int)\n",
    "np.mean(y_pred == Y)"
   ]
  },
  {
   "cell_type": "code",
   "execution_count": 96,
   "id": "53968ceb",
   "metadata": {},
   "outputs": [
    {
     "data": {
      "text/plain": [
       "[<matplotlib.lines.Line2D at 0x138802d50>]"
      ]
     },
     "execution_count": 96,
     "metadata": {},
     "output_type": "execute_result"
    },
    {
     "data": {
      "image/png": "[encoded data removed]",
      "text/plain": [
       "<Figure size 640x480 with 1 Axes>"
      ]
     },
     "metadata": {},
     "output_type": "display_data"
    }
   ],
   "source": [
    "plt.plot(np.arange(1, 101), costs)"
   ]
  }
 ],
 "metadata": {
  "kernelspec": {
   "display_name": "Python 3 (ipykernel)",
   "language": "python",
   "name": "python3"
  },
  "language_info": {
   "codemirror_mode": {
    "name": "ipython",
    "version": 3
   },
   "file_extension": ".py",
   "mimetype": "text/x-python",
   "name": "python",
   "nbconvert_exporter": "python",
   "pygments_lexer": "ipython3",
   "version": "3.11.11"
  }
 },
 "nbformat": 4,
 "nbformat_minor": 5
}
