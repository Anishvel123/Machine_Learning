{
 "cells": [
  {
   "cell_type": "code",
   "execution_count": 230,
   "id": "1d2e56ca-b40c-4305-88f6-9f05ab27ff28",
   "metadata": {},
   "outputs": [],
   "source": [
    "import pandas as pd\n",
    "import numpy as np\n",
    "import math\n",
    "from sklearn.datasets import load_iris\n",
    "from sklearn.preprocessing import StandardScaler\n",
    "import pandas as pd\n",
    "import matplotlib.pyplot as plt\n",
    "dataset = load_iris()"
   ]
  },
  {
   "cell_type": "code",
   "execution_count": 231,
   "id": "aed746f4-0872-4eec-a49a-c77581214aa3",
   "metadata": {},
   "outputs": [
    {
     "data": {
      "text/plain": [
       "numpy.ndarray"
      ]
     },
     "execution_count": 231,
     "metadata": {},
     "output_type": "execute_result"
    }
   ],
   "source": [
    "type(dataset.data)"
   ]
  },
  {
   "cell_type": "code",
   "execution_count": 239,
   "id": "bdf7cd8f-2efa-4496-9af8-b1a25a082e6b",
   "metadata": {
    "scrolled": true
   },
   "outputs": [],
   "source": [
    "df = pd.DataFrame(dataset.data)\n",
    "df['target'] = dataset.target\n",
    "df = df[df['target'] != 2]\n",
    "X = df.drop('target', axis = 1)\n",
    "y = df['target']\n",
    "scaler = StandardScaler()\n",
    "X_numpy = scaler.fit_transform(X)\n",
    "y_numpy = y.to_numpy()\n",
    "X_numpy = np.hstack([X_numpy, np.ones((X_numpy.shape[0], 1))])\n",
    "w = np.zeros((X_numpy.shape[1]))"
   ]
  },
  {
   "cell_type": "code",
   "execution_count": 249,
   "id": "e6e84994-ac39-4367-95f2-e9c07b52c99a",
   "metadata": {},
   "outputs": [],
   "source": [
    "def training(X_numpy, y_numpy, w, iters, alfa):\n",
    "    costs = []\n",
    "    for itr in range(iters):\n",
    "        y_pred = sigmoid(comp_z(X_numpy, w)).flatten()\n",
    "        eps = 1e-15\n",
    "        y_pred = np.clip(y_pred, eps, 1 - eps)\n",
    "        cost = -np.mean(y_numpy * np.log(y_pred) + (1 - y_numpy) * np.log(1 - y_pred))\n",
    "        grad_vector = np.dot(X_numpy.T, y_pred - y_numpy) / X_numpy.shape[0]\n",
    "        w = w - alfa * grad_vector\n",
    "        if (itr % 100 == 0):\n",
    "            costs.append(cost)\n",
    "            print(\"cost\", cost)\n",
    "    return w, costs"
   ]
  },
  {
   "cell_type": "code",
   "execution_count": 235,
   "id": "e95d8a4a-4b47-4672-86d3-72af5211744c",
   "metadata": {},
   "outputs": [],
   "source": [
    "def comp_z(X_numpy, w):\n",
    "    return np.dot(X_numpy, w)"
   ]
  },
  {
   "cell_type": "code",
   "execution_count": 236,
   "id": "2a2b282e-7fa2-4584-8401-aa9461326b5c",
   "metadata": {},
   "outputs": [],
   "source": [
    "def sigmoid(z):\n",
    "    return 1 / (1 + np.exp(-z))"
   ]
  },
  {
   "cell_type": "code",
   "execution_count": 250,
   "id": "e07dfc73-6f13-4c2d-933f-5da047063ee7",
   "metadata": {},
   "outputs": [
    {
     "name": "stdout",
     "output_type": "stream",
     "text": [
      "cost 0.6931471805599453\n",
      "cost 0.6265389570573671\n",
      "cost 0.5692572721137846\n",
      "cost 0.519873809049904\n",
      "cost 0.47714584168634394\n",
      "cost 0.4400153464703331\n",
      "cost 0.4075941480341432\n",
      "cost 0.3791429547120705\n",
      "cost 0.3540491139116083\n",
      "cost 0.33180567396585103\n",
      "cost 0.31199289796133806\n",
      "cost 0.29426254554080833\n",
      "cost 0.2783248115080718\n",
      "cost 0.26393762261027004\n",
      "cost 0.25089793778947467\n",
      "cost 0.23903470671756388\n",
      "cost 0.2282031793525193\n",
      "cost 0.21828030588601\n",
      "cost 0.20916101217982563\n",
      "cost 0.20075517650935723\n",
      "cost 0.19298516788950903\n",
      "cost 0.1857838345608154\n",
      "cost 0.1790928540443728\n",
      "cost 0.17286137438963864\n",
      "cost 0.16704489067850348\n",
      "cost 0.16160431225585192\n",
      "cost 0.1565051851560117\n",
      "cost 0.15171704129523628\n",
      "cost 0.14721285160990427\n",
      "cost 0.14296856476027356\n",
      "cost 0.13896271654296627\n",
      "cost 0.13517609795926977\n",
      "cost 0.13159147212474984\n",
      "cost 0.1281933319986276\n",
      "cost 0.12496769235248047\n",
      "cost 0.12190191056022877\n",
      "cost 0.11898453173230862\n",
      "cost 0.11620515448131646\n",
      "cost 0.11355431422957073\n",
      "cost 0.1110233814788525\n",
      "cost 0.10860447288111665\n",
      "cost 0.10629037329372619\n",
      "cost 0.10407446728771017\n",
      "cost 0.10195067881381897\n",
      "cost 0.09991341792770847\n",
      "cost 0.09795753363959565\n",
      "cost 0.09607827209101483\n",
      "cost 0.09427123937655697\n",
      "cost 0.09253236842550953\n",
      "cost 0.0908578894402475\n",
      "cost 0.08924430345759488\n",
      "cost 0.08768835865826614\n",
      "cost 0.08618702909962225\n",
      "cost 0.08473749558974802\n",
      "cost 0.08333712845744788\n",
      "cost 0.08198347200413336\n",
      "cost 0.08067423045054285\n",
      "cost 0.0794072552144678\n",
      "cost 0.07818053337571905\n",
      "cost 0.07699217720192249\n",
      "cost 0.07584041462378562\n",
      "cost 0.0747235805615515\n",
      "cost 0.0736401090157425\n",
      "cost 0.07258852584523023\n",
      "cost 0.0715674421643433\n",
      "cost 0.07057554829833095\n",
      "cost 0.06961160824316341\n",
      "cost 0.06867445458151067\n",
      "cost 0.06776298381189812\n",
      "cost 0.06687615205258568\n",
      "cost 0.06601297108573091\n",
      "cost 0.06517250471095239\n",
      "cost 0.06435386538055474\n",
      "cost 0.06355621109147058\n",
      "cost 0.0627787425114564\n",
      "cost 0.062020700319288455\n",
      "cost 0.061281362740672536\n",
      "cost 0.060560043263339\n",
      "cost 0.05985608851636282\n",
      "cost 0.059168876300156145\n",
      "cost 0.05849781375483536\n",
      "cost 0.057842335655797744\n",
      "cost 0.057201902826354754\n",
      "cost 0.05657600065818198\n",
      "cost 0.05596413773116754\n",
      "cost 0.05536584452497885\n",
      "cost 0.05478067221534056\n",
      "cost 0.05420819154861387\n",
      "cost 0.053647991788819266\n",
      "cost 0.0530996797317359\n",
      "cost 0.05256287878115893\n",
      "cost 0.05203722808280444\n",
      "cost 0.051522381711719155\n",
      "cost 0.05101800790938887\n",
      "cost 0.05052378836704494\n",
      "cost 0.05003941755194527\n",
      "cost 0.04956460207366147\n",
      "cost 0.04909906008763545\n",
      "cost 0.048642520733476975\n",
      "cost 0.04819472360567284\n"
     ]
    }
   ],
   "source": [
    "new_w, costs = training(X_numpy, y_numpy, w, 10000, 0.001)"
   ]
  },
  {
   "cell_type": "code",
   "execution_count": 241,
   "id": "7d5ea0b3-3d77-4ae1-978d-2caf5c88c042",
   "metadata": {},
   "outputs": [],
   "source": [
    "y_pred = sigmoid(comp_z(X_numpy, new_w))\n",
    "y_pred = (y_pred > 0.5).astype(int)"
   ]
  },
  {
   "cell_type": "code",
   "execution_count": 246,
   "id": "048cddd5-8e1c-4e0a-8cf2-a2b8bd06ef55",
   "metadata": {},
   "outputs": [
    {
     "data": {
      "text/plain": [
       "100.0"
      ]
     },
     "execution_count": 246,
     "metadata": {},
     "output_type": "execute_result"
    }
   ],
   "source": [
    "np.mean(y_numpy == y_pred) * 100"
   ]
  },
  {
   "cell_type": "code",
   "execution_count": 247,
   "id": "d2d715ff-6a80-40b0-a034-a0b6d8cdeba1",
   "metadata": {},
   "outputs": [
    {
     "data": {
      "text/plain": [
       "array([ 0.72352132, -0.85381774,  1.12008978,  1.11634974,  0.03487379])"
      ]
     },
     "execution_count": 247,
     "metadata": {},
     "output_type": "execute_result"
    }
   ],
   "source": [
    "new_w"
   ]
  },
  {
   "cell_type": "code",
   "execution_count": 253,
   "id": "a61e427c-f6f3-4023-a9bf-d10ac2f5633b",
   "metadata": {},
   "outputs": [
    {
     "data": {
      "text/plain": [
       "Text(0, 0.5, 'cost')"
      ]
     },
     "execution_count": 253,
     "metadata": {},
     "output_type": "execute_result"
    },
    {
     "data": {
      "image/png": "[encoded data removed]",
      "text/plain": [
       "<Figure size 640x480 with 1 Axes>"
      ]
     },
     "metadata": {},
     "output_type": "display_data"
    }
   ],
   "source": [
    "plt.plot(np.arange(1, 101), costs)\n",
    "plt.xlabel('iterations / 100')\n",
    "plt.ylabel('cost')"
   ]
  }
 ],
 "metadata": {
  "kernelspec": {
   "display_name": "Python 3 (ipykernel)",
   "language": "python",
   "name": "python3"
  },
  "language_info": {
   "codemirror_mode": {
    "name": "ipython",
    "version": 3
   },
   "file_extension": ".py",
   "mimetype": "text/x-python",
   "name": "python",
   "nbconvert_exporter": "python",
   "pygments_lexer": "ipython3",
   "version": "3.11.11"
  }
 },
 "nbformat": 4,
 "nbformat_minor": 5
}
