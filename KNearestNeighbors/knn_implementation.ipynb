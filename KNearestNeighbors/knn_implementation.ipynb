{
 "cells": [
  {
   "cell_type": "code",
   "execution_count": 50,
   "id": "a4b396d2",
   "metadata": {},
   "outputs": [],
   "source": [
    "import numpy as np\n",
    "from sklearn.datasets import load_iris\n",
    "from sklearn.model_selection import train_test_split\n",
    "import heapq\n",
    "dataset = load_iris()"
   ]
  },
  {
   "cell_type": "code",
   "execution_count": 13,
   "id": "c0117a10",
   "metadata": {
    "scrolled": true
   },
   "outputs": [],
   "source": [
    "X = np.array(dataset.data[:, :2])\n",
    "y = np.array(dataset.target)"
   ]
  },
  {
   "cell_type": "code",
   "execution_count": 45,
   "id": "3c991923",
   "metadata": {},
   "outputs": [],
   "source": [
    "def predict(X, y, R, k):\n",
    "    y_predict = []\n",
    "    for i in range(R.shape[0]):\n",
    "        row = R[i]\n",
    "        heap = []\n",
    "        for j in range(X.shape[0]):\n",
    "            dist = compute_euclid(row, X[j])\n",
    "            heapq.heappush(heap, (dist, y[j]))\n",
    "        vote = np.zeros(3)\n",
    "        for x in range(0, k):\n",
    "            key = heapq.heappop(heap)\n",
    "            vote[key[1]] = vote[key[1]] + 1\n",
    "        y_predict.append(np.argmax(vote))\n",
    "    return y_predict"
   ]
  },
  {
   "cell_type": "code",
   "execution_count": 42,
   "id": "211272bc",
   "metadata": {},
   "outputs": [],
   "source": [
    "def compute_euclid(rowA, rowB):\n",
    "    return np.sqrt(np.sum(np.square(np.subtract(rowA, rowB))))"
   ]
  },
  {
   "cell_type": "code",
   "execution_count": 46,
   "id": "adfafe3f",
   "metadata": {},
   "outputs": [],
   "source": [
    "def score(y, y_predict):\n",
    "    return (np.sum(y == y_predict) / len(y)) * 100"
   ]
  },
  {
   "cell_type": "code",
   "execution_count": 47,
   "id": "8fca19a4",
   "metadata": {},
   "outputs": [
    {
     "data": {
      "text/plain": [
       "84.66666666666667"
      ]
     },
     "execution_count": 47,
     "metadata": {},
     "output_type": "execute_result"
    }
   ],
   "source": [
    "y_predict = predict(X, y, X, 3)\n",
    "score(y, y_predict)"
   ]
  },
  {
   "cell_type": "code",
   "execution_count": 48,
   "id": "5cc0ff21",
   "metadata": {
    "scrolled": true
   },
   "outputs": [
    {
     "data": {
      "text/plain": [
       "82.66666666666667"
      ]
     },
     "execution_count": 48,
     "metadata": {},
     "output_type": "execute_result"
    }
   ],
   "source": [
    "y_predict = predict(X, y, X, 4)\n",
    "score(y, y_predict)"
   ]
  },
  {
   "cell_type": "code",
   "execution_count": 49,
   "id": "0d142a0f",
   "metadata": {
    "scrolled": true
   },
   "outputs": [
    {
     "data": {
      "text/plain": [
       "82.0"
      ]
     },
     "execution_count": 49,
     "metadata": {},
     "output_type": "execute_result"
    }
   ],
   "source": [
    "y_predict = predict(X, y, X, 10)\n",
    "score(y, y_predict)"
   ]
  },
  {
   "cell_type": "code",
   "execution_count": null,
   "id": "0c7557e4",
   "metadata": {},
   "outputs": [],
   "source": []
  }
 ],
 "metadata": {
  "kernelspec": {
   "display_name": "Python 3 (ipykernel)",
   "language": "python",
   "name": "python3"
  },
  "language_info": {
   "codemirror_mode": {
    "name": "ipython",
    "version": 3
   },
   "file_extension": ".py",
   "mimetype": "text/x-python",
   "name": "python",
   "nbconvert_exporter": "python",
   "pygments_lexer": "ipython3",
   "version": "3.11.5"
  }
 },
 "nbformat": 4,
 "nbformat_minor": 5
}
