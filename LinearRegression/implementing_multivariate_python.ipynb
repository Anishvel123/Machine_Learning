{
 "cells": [
  {
   "cell_type": "code",
   "execution_count": 3,
   "id": "83703394-f700-47b0-b36a-f20c82dbdcb2",
   "metadata": {},
   "outputs": [],
   "source": [
    "import pandas as pd\n",
    "import numpy as np\n",
    "from sklearn.preprocessing import StandardScaler\n",
    "from sklearn.datasets import fetch_california_housing"
   ]
  },
  {
   "cell_type": "code",
   "execution_count": 4,
   "id": "780386d8-d860-4740-a5bb-18ca7d112aa8",
   "metadata": {},
   "outputs": [
    {
     "data": {
      "text/html": [
       "<div>\n",
       "<style scoped>\n",
       "    .dataframe tbody tr th:only-of-type {\n",
       "        vertical-align: middle;\n",
       "    }\n",
       "\n",
       "    .dataframe tbody tr th {\n",
       "        vertical-align: top;\n",
       "    }\n",
       "\n",
       "    .dataframe thead th {\n",
       "        text-align: right;\n",
       "    }\n",
       "</style>\n",
       "<table border=\"1\" class=\"dataframe\">\n",
       "  <thead>\n",
       "    <tr style=\"text-align: right;\">\n",
       "      <th></th>\n",
       "      <th>area</th>\n",
       "      <th>bedrooms</th>\n",
       "      <th>age</th>\n",
       "      <th>price</th>\n",
       "    </tr>\n",
       "  </thead>\n",
       "  <tbody>\n",
       "    <tr>\n",
       "      <th>0</th>\n",
       "      <td>2600</td>\n",
       "      <td>3.0</td>\n",
       "      <td>20</td>\n",
       "      <td>550000</td>\n",
       "    </tr>\n",
       "    <tr>\n",
       "      <th>1</th>\n",
       "      <td>3000</td>\n",
       "      <td>4.0</td>\n",
       "      <td>15</td>\n",
       "      <td>565000</td>\n",
       "    </tr>\n",
       "    <tr>\n",
       "      <th>2</th>\n",
       "      <td>3200</td>\n",
       "      <td>NaN</td>\n",
       "      <td>18</td>\n",
       "      <td>610000</td>\n",
       "    </tr>\n",
       "    <tr>\n",
       "      <th>3</th>\n",
       "      <td>3600</td>\n",
       "      <td>3.0</td>\n",
       "      <td>30</td>\n",
       "      <td>595000</td>\n",
       "    </tr>\n",
       "    <tr>\n",
       "      <th>4</th>\n",
       "      <td>4000</td>\n",
       "      <td>5.0</td>\n",
       "      <td>8</td>\n",
       "      <td>760000</td>\n",
       "    </tr>\n",
       "    <tr>\n",
       "      <th>5</th>\n",
       "      <td>4100</td>\n",
       "      <td>6.0</td>\n",
       "      <td>8</td>\n",
       "      <td>810000</td>\n",
       "    </tr>\n",
       "  </tbody>\n",
       "</table>\n",
       "</div>"
      ],
      "text/plain": [
       "   area  bedrooms  age   price\n",
       "0  2600       3.0   20  550000\n",
       "1  3000       4.0   15  565000\n",
       "2  3200       NaN   18  610000\n",
       "3  3600       3.0   30  595000\n",
       "4  4000       5.0    8  760000\n",
       "5  4100       6.0    8  810000"
      ]
     },
     "execution_count": 4,
     "metadata": {},
     "output_type": "execute_result"
    }
   ],
   "source": [
    "df = pd.read_csv('../homeprices copy.csv')\n",
    "df"
   ]
  },
  {
   "cell_type": "code",
   "execution_count": 5,
   "id": "40d87a32-988d-4f80-bb4f-77836ce1e0ca",
   "metadata": {
    "scrolled": true
   },
   "outputs": [],
   "source": [
    "df.isna().sum()\n",
    "df.dropna(inplace = True)"
   ]
  },
  {
   "cell_type": "code",
   "execution_count": 6,
   "id": "db91ad23-7b5f-4179-b6bb-00e995c5e5f5",
   "metadata": {},
   "outputs": [],
   "source": [
    "X = df.drop('price', axis = 1)\n",
    "y = df['price']"
   ]
  },
  {
   "cell_type": "code",
   "execution_count": 7,
   "id": "59ea4695-afbd-42ea-892c-e5bafeac0cd9",
   "metadata": {
    "scrolled": true
   },
   "outputs": [],
   "source": [
    "scaler = StandardScaler()\n",
    "X = scaler.fit_transform(X)\n",
    "ones_col = np.ones(len(X))\n",
    "ones_col = ones_col.reshape(len(X), 1)\n",
    "X = np.hstack((X, ones_col))"
   ]
  },
  {
   "cell_type": "code",
   "execution_count": 6,
   "id": "555992b2-bb36-43bd-b18d-9ba5fd8cc1fc",
   "metadata": {
    "scrolled": true
   },
   "outputs": [],
   "source": [
    "w = np.dot(np.linalg.inv(np.dot(X.T, X)), np.dot(X.T, y))"
   ]
  },
  {
   "cell_type": "code",
   "execution_count": 7,
   "id": "35b3e5bb-055a-421c-a763-b92eee59b2ce",
   "metadata": {},
   "outputs": [
    {
     "data": {
      "text/plain": [
       "array([519866.710013  , 604304.29128739, 598930.42912874, 760000.        ,\n",
       "       796898.56957087])"
      ]
     },
     "execution_count": 7,
     "metadata": {},
     "output_type": "execute_result"
    }
   ],
   "source": [
    "y_pred = np.dot(X, w)\n",
    "y_pred"
   ]
  },
  {
   "cell_type": "code",
   "execution_count": 8,
   "id": "6dd96d76-51ae-4bf9-b6c0-e1d86f0064e7",
   "metadata": {},
   "outputs": [
    {
     "data": {
      "text/plain": [
       "0.9543026098066568"
      ]
     },
     "execution_count": 8,
     "metadata": {},
     "output_type": "execute_result"
    }
   ],
   "source": [
    "r_squared = 1 - (np.sum(np.square(y - y_pred)) / np.sum(np.square(y - np.mean(y))))\n",
    "r_squared"
   ]
  },
  {
   "cell_type": "code",
   "execution_count": 9,
   "id": "900dd65b-9938-46e9-99e3-83daa5517085",
   "metadata": {},
   "outputs": [],
   "source": [
    "def prepare_data(a, b):\n",
    "    bais_col = np.ones(len(b))\n",
    "    bais_col = bais_col.reshape(len(b), 1)\n",
    "    a = np.hstack((a, bais_col))\n",
    "    return a, b"
   ]
  },
  {
   "cell_type": "code",
   "execution_count": 32,
   "id": "478674c9-45dd-42b1-9a9e-e4cd3d56a08f",
   "metadata": {
    "scrolled": true
   },
   "outputs": [],
   "source": [
    "def init_weights(a, b):\n",
    "    w = np.zeros(a.shape[1])\n",
    "    w = w.reshape(len(w), 1)\n",
    "    return w"
   ]
  },
  {
   "cell_type": "code",
   "execution_count": 77,
   "id": "ff255b7d-4b86-4547-8d0e-faf6c9e899c9",
   "metadata": {},
   "outputs": [],
   "source": [
    "def training(X, y, w):\n",
    "    n = X.shape[0]\n",
    "    alpha = 0.01\n",
    "    for itr in range(1000):\n",
    "        y_pred = predict(X, w)\n",
    "        cost = np.sum(np.square(y - y_pred)) / (2 * n)\n",
    "        grad_cost = np.dot(X.T, (y_pred - y)) / n\n",
    "        w = w - (alpha * grad_cost)\n",
    "        if (itr % 100 == 0):\n",
    "            print(\"weights: \", w, \" cost: \", cost)\n",
    "    return w"
   ]
  },
  {
   "cell_type": "code",
   "execution_count": 34,
   "id": "0d8d2cb5-f354-4763-8454-a36bf08af525",
   "metadata": {},
   "outputs": [],
   "source": [
    "def predict(a, w):\n",
    "    y_pred = np.dot(a, w)\n",
    "    y_pred = y_pred.reshape(len(y_pred), 1)\n",
    "    return y_pred"
   ]
  },
  {
   "cell_type": "code",
   "execution_count": 62,
   "id": "1b633933-8138-484c-9946-69c3f2d2d18c",
   "metadata": {},
   "outputs": [],
   "source": [
    "y = np.array(y)\n",
    "y = y.reshape(len(y), 1)\n",
    "w = init_weights(X, y)"
   ]
  },
  {
   "cell_type": "code",
   "execution_count": 78,
   "id": "0a294015-c27f-40a4-ab0e-a2f369806d05",
   "metadata": {},
   "outputs": [
    {
     "name": "stdout",
     "output_type": "stream",
     "text": [
      "weights:  [[ 965.63339156]\n",
      " [ 992.97680798]\n",
      " [-787.55732335]\n",
      " [6560.        ]]  cost:  220945000000.0\n",
      "weights:  [[ 42245.96609494]\n",
      " [ 37135.94281877]\n",
      " [-25912.23865717]\n",
      " [418283.95628351]]  cost:  29223053939.127697\n",
      "weights:  [[ 50989.17095407]\n",
      " [ 39535.07272273]\n",
      " [-24350.0714385 ]\n",
      " [568988.23996024]]  cost:  4156983800.314865\n",
      "weights:  [[ 54693.95416068]\n",
      " [ 39172.51896437]\n",
      " [-22153.38314859]\n",
      " [624150.88175434]]  cost:  792635960.9990139\n",
      "weights:  [[ 56732.33876728]\n",
      " [ 38699.40068683]\n",
      " [-20876.07988332]\n",
      " [644342.19268105]]  cost:  338266319.33855194\n",
      "weights:  [[ 57931.48615206]\n",
      " [ 38296.62132489]\n",
      " [-20228.85738839]\n",
      " [651732.86549293]]  cost:  276137389.31115377\n",
      "weights:  [[ 58663.41500719]\n",
      " [ 37949.46872025]\n",
      " [-19944.75424791]\n",
      " [654438.09076585]]  cost:  267334450.97719565\n",
      "weights:  [[ 59130.02947024]\n",
      " [ 37639.10585952]\n",
      " [-19863.78965438]\n",
      " [655428.29070617]]  cost:  265929121.5114452\n",
      "weights:  [[ 59444.79137867]\n",
      " [ 37353.80703331]\n",
      " [-19894.821082  ]\n",
      " [655790.73590865]]  cost:  265601020.3690082\n",
      "weights:  [[ 59671.84707947]\n",
      " [ 37086.70909557]\n",
      " [-19986.358937  ]\n",
      " [655923.4025747 ]]  cost:  265449625.32426724\n"
     ]
    }
   ],
   "source": [
    "new_w = training(X, y, w)"
   ]
  },
  {
   "cell_type": "code",
   "execution_count": 80,
   "id": "78483966-2f34-4e69-8440-6d4c8a7c39a7",
   "metadata": {},
   "outputs": [
    {
     "name": "stdout",
     "output_type": "stream",
     "text": [
      "[[550000]\n",
      " [565000]\n",
      " [595000]\n",
      " [760000]\n",
      " [810000]] [[519810.17055296]\n",
      " [604971.28260002]\n",
      " [598944.9564057 ]\n",
      " [757098.04629986]\n",
      " [799033.94244996]]\n"
     ]
    }
   ],
   "source": [
    "y_pred = predict(X, new_w)\n",
    "print(y, y_pred)"
   ]
  },
  {
   "cell_type": "code",
   "execution_count": 58,
   "id": "80e8fbb1-3a6d-41b7-86a2-3827082ea3a1",
   "metadata": {},
   "outputs": [],
   "source": [
    "def r_sqr_score(y, y_pred):\n",
    "    ss_res = np.sum((y - y_pred) ** 2)          # Residual Sum of Squares\n",
    "    ss_tot = np.sum((y - np.mean(y)) ** 2)   \n",
    "    return 1 - (ss_res / ss_tot)"
   ]
  },
  {
   "cell_type": "code",
   "execution_count": null,
   "id": "3cf9569a-a632-4718-a9de-d53e83a961f1",
   "metadata": {},
   "outputs": [],
   "source": []
  },
  {
   "cell_type": "code",
   "execution_count": null,
   "id": "57793db0-8216-4826-98ce-ebc8a643fef4",
   "metadata": {},
   "outputs": [],
   "source": []
  }
 ],
 "metadata": {
  "kernelspec": {
   "display_name": "Python [conda env:base] *",
   "language": "python",
   "name": "conda-base-py"
  },
  "language_info": {
   "codemirror_mode": {
    "name": "ipython",
    "version": 3
   },
   "file_extension": ".py",
   "mimetype": "text/x-python",
   "name": "python",
   "nbconvert_exporter": "python",
   "pygments_lexer": "ipython3",
   "version": "3.11.11"
  }
 },
 "nbformat": 4,
 "nbformat_minor": 5
}
