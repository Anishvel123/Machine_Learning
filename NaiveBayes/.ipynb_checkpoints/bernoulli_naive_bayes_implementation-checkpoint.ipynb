{
 "cells": [
  {
   "cell_type": "code",
   "execution_count": 8,
   "id": "867b293a",
   "metadata": {
    "scrolled": true
   },
   "outputs": [
    {
     "data": {
      "text/html": [
       "<div>\n",
       "<style scoped>\n",
       "    .dataframe tbody tr th:only-of-type {\n",
       "        vertical-align: middle;\n",
       "    }\n",
       "\n",
       "    .dataframe tbody tr th {\n",
       "        vertical-align: top;\n",
       "    }\n",
       "\n",
       "    .dataframe thead th {\n",
       "        text-align: right;\n",
       "    }\n",
       "</style>\n",
       "<table border=\"1\" class=\"dataframe\">\n",
       "  <thead>\n",
       "    <tr style=\"text-align: right;\">\n",
       "      <th></th>\n",
       "      <th>Category</th>\n",
       "      <th>Message</th>\n",
       "    </tr>\n",
       "  </thead>\n",
       "  <tbody>\n",
       "    <tr>\n",
       "      <th>0</th>\n",
       "      <td>ham</td>\n",
       "      <td>Go until jurong point, crazy.. Available only ...</td>\n",
       "    </tr>\n",
       "    <tr>\n",
       "      <th>1</th>\n",
       "      <td>ham</td>\n",
       "      <td>Ok lar... Joking wif u oni...</td>\n",
       "    </tr>\n",
       "    <tr>\n",
       "      <th>2</th>\n",
       "      <td>spam</td>\n",
       "      <td>Free entry in 2 a wkly comp to win FA Cup fina...</td>\n",
       "    </tr>\n",
       "    <tr>\n",
       "      <th>3</th>\n",
       "      <td>ham</td>\n",
       "      <td>U dun say so early hor... U c already then say...</td>\n",
       "    </tr>\n",
       "    <tr>\n",
       "      <th>4</th>\n",
       "      <td>ham</td>\n",
       "      <td>Nah I don't think he goes to usf, he lives aro...</td>\n",
       "    </tr>\n",
       "    <tr>\n",
       "      <th>...</th>\n",
       "      <td>...</td>\n",
       "      <td>...</td>\n",
       "    </tr>\n",
       "    <tr>\n",
       "      <th>5567</th>\n",
       "      <td>spam</td>\n",
       "      <td>This is the 2nd time we have tried 2 contact u...</td>\n",
       "    </tr>\n",
       "    <tr>\n",
       "      <th>5568</th>\n",
       "      <td>ham</td>\n",
       "      <td>Will ü b going to esplanade fr home?</td>\n",
       "    </tr>\n",
       "    <tr>\n",
       "      <th>5569</th>\n",
       "      <td>ham</td>\n",
       "      <td>Pity, * was in mood for that. So...any other s...</td>\n",
       "    </tr>\n",
       "    <tr>\n",
       "      <th>5570</th>\n",
       "      <td>ham</td>\n",
       "      <td>The guy did some bitching but I acted like i'd...</td>\n",
       "    </tr>\n",
       "    <tr>\n",
       "      <th>5571</th>\n",
       "      <td>ham</td>\n",
       "      <td>Rofl. Its true to its name</td>\n",
       "    </tr>\n",
       "  </tbody>\n",
       "</table>\n",
       "<p>5572 rows × 2 columns</p>\n",
       "</div>"
      ],
      "text/plain": [
       "     Category                                            Message\n",
       "0         ham  Go until jurong point, crazy.. Available only ...\n",
       "1         ham                      Ok lar... Joking wif u oni...\n",
       "2        spam  Free entry in 2 a wkly comp to win FA Cup fina...\n",
       "3         ham  U dun say so early hor... U c already then say...\n",
       "4         ham  Nah I don't think he goes to usf, he lives aro...\n",
       "...       ...                                                ...\n",
       "5567     spam  This is the 2nd time we have tried 2 contact u...\n",
       "5568      ham               Will ü b going to esplanade fr home?\n",
       "5569      ham  Pity, * was in mood for that. So...any other s...\n",
       "5570      ham  The guy did some bitching but I acted like i'd...\n",
       "5571      ham                         Rofl. Its true to its name\n",
       "\n",
       "[5572 rows x 2 columns]"
      ]
     },
     "execution_count": 8,
     "metadata": {},
     "output_type": "execute_result"
    }
   ],
   "source": [
    "import pandas as pd\n",
    "import numpy as np\n",
    "from sklearn.feature_extraction.text import CountVectorizer\n",
    "df = pd.read_csv('../spam.csv')\n",
    "df"
   ]
  },
  {
   "cell_type": "code",
   "execution_count": 133,
   "id": "3b8ef1aa",
   "metadata": {},
   "outputs": [],
   "source": [
    "def transform_data(df):\n",
    "    bv = CountVectorizer(binary = True)\n",
    "    bvectors = bv.fit_transform(df.Message)\n",
    "    a = df.Category.apply(lambda x: 0 if x == \"ham\" else 1)\n",
    "    y = np.array(a)\n",
    "    return bvectors, y"
   ]
  },
  {
   "cell_type": "code",
   "execution_count": 132,
   "id": "f4e45c63",
   "metadata": {},
   "outputs": [],
   "source": [
    "def calculate_priorprobability(y):\n",
    "    n_spam = np.sum(y == 1, axis = 0)\n",
    "    n_ham =  np.sum(y == 0, axis = 0)\n",
    "    p_spam = (n_spam) / (n_spam + n_ham)\n",
    "    p_ham = 1 - p_spam\n",
    "    return p_spam, p_ham, n_spam, n_ham"
   ]
  },
  {
   "cell_type": "code",
   "execution_count": 131,
   "id": "1a0c9264",
   "metadata": {
    "scrolled": true
   },
   "outputs": [],
   "source": [
    "def calculate_likelihood(bvectors, y, n_spam, n_ham):\n",
    "    maska = np.array(y == 1)\n",
    "    X_spam = bvectors[maska]\n",
    "    maskb = np.array(y == 0)\n",
    "    X_ham = bvectors[maskb]\n",
    "    likelihood_spam = (np.sum(X_spam, axis = 0) + 1) / (n_spam + 2)\n",
    "    likelihood_ham = (np.sum(X_ham, axis = 0) + 1) / (n_ham + 2)\n",
    "    return likelihood_spam, likelihood_ham"
   ]
  },
  {
   "cell_type": "code",
   "execution_count": 149,
   "id": "da9261f9",
   "metadata": {},
   "outputs": [],
   "source": [
    "def predict(vectors, likelihood_spam, likelihood_ham, p_spam, p_ham):\n",
    "    predicts = []\n",
    "    for vector in vectors:\n",
    "        spam = p_spam\n",
    "        ham = p_ham\n",
    "        for a in range(vector.shape[1]):\n",
    "            if (vector[:, a] == 1):\n",
    "                spam = spam * likelihood_spam[:, a]\n",
    "                ham = ham * likelihood_ham[:, a]\n",
    "            else:\n",
    "                spam = spam * (1 - likelihood_spam[:, a])\n",
    "                ham = ham * (1 - likelihood_ham[:, a])\n",
    "        if (spam > ham):\n",
    "            predicts.append(\"spam\")\n",
    "        else:\n",
    "            predicts.append(\"ham\")\n",
    "    return predicts"
   ]
  },
  {
   "cell_type": "code",
   "execution_count": 134,
   "id": "ad8a1ebc",
   "metadata": {},
   "outputs": [],
   "source": [
    "def training(df):\n",
    "    X, y = transform_data(df)\n",
    "    p_spam, p_ham, n_spam, n_ham = calculate_priorprobability(y)\n",
    "    likelihood_spam, likelihood_ham = calculate_likelihood(X, y, n_spam, n_ham)\n",
    "    return X, y, p_spam, p_ham, n_spam, n_ham, likelihood_spam, likelihood_ham"
   ]
  },
  {
   "cell_type": "code",
   "execution_count": 142,
   "id": "70417ede",
   "metadata": {
    "scrolled": true
   },
   "outputs": [],
   "source": [
    "X, y, p_spam, p_ham, n_spam, n_ham, likelihood_spam, likelihood_ham = training(df)\n"
   ]
  },
  {
   "cell_type": "code",
   "execution_count": 153,
   "id": "66203d0b",
   "metadata": {},
   "outputs": [],
   "source": [
    "X_test, y_test = transform_data(df[:10])\n",
    "predicts = predict(X_test, likelihood_spam, likelihood_ham, p_spam, p_ham)"
   ]
  },
  {
   "cell_type": "code",
   "execution_count": 154,
   "id": "2a054931",
   "metadata": {},
   "outputs": [
    {
     "name": "stdout",
     "output_type": "stream",
     "text": [
      "['spam', 'spam', 'spam', 'spam', 'spam', 'spam', 'spam', 'spam', 'spam', 'spam']\n",
      "[0 0 1 0 0 1 0 0 1 1]\n"
     ]
    }
   ],
   "source": [
    "print(predicts)\n",
    "print(y_test)"
   ]
  }
 ],
 "metadata": {
  "kernelspec": {
   "display_name": "Python 3 (ipykernel)",
   "language": "python",
   "name": "python3"
  },
  "language_info": {
   "codemirror_mode": {
    "name": "ipython",
    "version": 3
   },
   "file_extension": ".py",
   "mimetype": "text/x-python",
   "name": "python",
   "nbconvert_exporter": "python",
   "pygments_lexer": "ipython3",
   "version": "3.11.5"
  }
 },
 "nbformat": 4,
 "nbformat_minor": 5
}
