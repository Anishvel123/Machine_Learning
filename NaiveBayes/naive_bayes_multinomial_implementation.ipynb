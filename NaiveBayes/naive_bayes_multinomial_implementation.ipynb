{
 "cells": [
  {
   "cell_type": "code",
   "execution_count": 1,
   "id": "ead738b4",
   "metadata": {},
   "outputs": [
    {
     "data": {
      "text/html": [
       "<div>\n",
       "<style scoped>\n",
       "    .dataframe tbody tr th:only-of-type {\n",
       "        vertical-align: middle;\n",
       "    }\n",
       "\n",
       "    .dataframe tbody tr th {\n",
       "        vertical-align: top;\n",
       "    }\n",
       "\n",
       "    .dataframe thead th {\n",
       "        text-align: right;\n",
       "    }\n",
       "</style>\n",
       "<table border=\"1\" class=\"dataframe\">\n",
       "  <thead>\n",
       "    <tr style=\"text-align: right;\">\n",
       "      <th></th>\n",
       "      <th>Category</th>\n",
       "      <th>Message</th>\n",
       "    </tr>\n",
       "  </thead>\n",
       "  <tbody>\n",
       "    <tr>\n",
       "      <th>0</th>\n",
       "      <td>ham</td>\n",
       "      <td>Go until jurong point, crazy.. Available only ...</td>\n",
       "    </tr>\n",
       "    <tr>\n",
       "      <th>1</th>\n",
       "      <td>ham</td>\n",
       "      <td>Ok lar... Joking wif u oni...</td>\n",
       "    </tr>\n",
       "    <tr>\n",
       "      <th>2</th>\n",
       "      <td>spam</td>\n",
       "      <td>Free entry in 2 a wkly comp to win FA Cup fina...</td>\n",
       "    </tr>\n",
       "    <tr>\n",
       "      <th>3</th>\n",
       "      <td>ham</td>\n",
       "      <td>U dun say so early hor... U c already then say...</td>\n",
       "    </tr>\n",
       "    <tr>\n",
       "      <th>4</th>\n",
       "      <td>ham</td>\n",
       "      <td>Nah I don't think he goes to usf, he lives aro...</td>\n",
       "    </tr>\n",
       "    <tr>\n",
       "      <th>...</th>\n",
       "      <td>...</td>\n",
       "      <td>...</td>\n",
       "    </tr>\n",
       "    <tr>\n",
       "      <th>5567</th>\n",
       "      <td>spam</td>\n",
       "      <td>This is the 2nd time we have tried 2 contact u...</td>\n",
       "    </tr>\n",
       "    <tr>\n",
       "      <th>5568</th>\n",
       "      <td>ham</td>\n",
       "      <td>Will ü b going to esplanade fr home?</td>\n",
       "    </tr>\n",
       "    <tr>\n",
       "      <th>5569</th>\n",
       "      <td>ham</td>\n",
       "      <td>Pity, * was in mood for that. So...any other s...</td>\n",
       "    </tr>\n",
       "    <tr>\n",
       "      <th>5570</th>\n",
       "      <td>ham</td>\n",
       "      <td>The guy did some bitching but I acted like i'd...</td>\n",
       "    </tr>\n",
       "    <tr>\n",
       "      <th>5571</th>\n",
       "      <td>ham</td>\n",
       "      <td>Rofl. Its true to its name</td>\n",
       "    </tr>\n",
       "  </tbody>\n",
       "</table>\n",
       "<p>5572 rows × 2 columns</p>\n",
       "</div>"
      ],
      "text/plain": [
       "     Category                                            Message\n",
       "0         ham  Go until jurong point, crazy.. Available only ...\n",
       "1         ham                      Ok lar... Joking wif u oni...\n",
       "2        spam  Free entry in 2 a wkly comp to win FA Cup fina...\n",
       "3         ham  U dun say so early hor... U c already then say...\n",
       "4         ham  Nah I don't think he goes to usf, he lives aro...\n",
       "...       ...                                                ...\n",
       "5567     spam  This is the 2nd time we have tried 2 contact u...\n",
       "5568      ham               Will ü b going to esplanade fr home?\n",
       "5569      ham  Pity, * was in mood for that. So...any other s...\n",
       "5570      ham  The guy did some bitching but I acted like i'd...\n",
       "5571      ham                         Rofl. Its true to its name\n",
       "\n",
       "[5572 rows x 2 columns]"
      ]
     },
     "execution_count": 1,
     "metadata": {},
     "output_type": "execute_result"
    }
   ],
   "source": [
    "import pandas as pd\n",
    "import numpy as np\n",
    "from sklearn.feature_extraction.text import CountVectorizer\n",
    "df = pd.read_csv('../spam.csv')\n",
    "df"
   ]
  },
  {
   "cell_type": "code",
   "execution_count": 2,
   "id": "3e43f584",
   "metadata": {},
   "outputs": [],
   "source": [
    "def transform_data(df):\n",
    "    cv = CountVectorizer()\n",
    "    X = cv.fit_transform(df.Message)\n",
    "    y = df.Category.apply(lambda x: 1 if x == \"spam\" else 0)\n",
    "    return X, y"
   ]
  },
  {
   "cell_type": "code",
   "execution_count": 14,
   "id": "5345a68c",
   "metadata": {},
   "outputs": [],
   "source": [
    "def calculate_prior(y):\n",
    "    n_spam = np.sum(y == 1)\n",
    "    n_ham = np.sum(y == 0)\n",
    "    p_spam = n_spam / (n_spam + n_ham)\n",
    "    p_ham = 1 - p_spam\n",
    "    return p_spam, p_ham"
   ]
  },
  {
   "cell_type": "code",
   "execution_count": 6,
   "id": "96600398",
   "metadata": {},
   "outputs": [],
   "source": [
    "def calculate_likelihood(X, y, p_spam, p_ham):\n",
    "    a = X[np.array(y == 1)]\n",
    "    b = X[np.array(y == 0)]\n",
    "    n_spam = np.sum(a)\n",
    "    n_ham = np.sum(b)\n",
    "    v = X.shape[1]\n",
    "    likelihood_spam = (np.sum(a, axis = 0) + 1) / (n_spam + v)\n",
    "    likelihood_ham = (np.sum(b, axis = 0) + 1) / (n_ham + v)\n",
    "    return likelihood_spam, likelihood_ham "
   ]
  },
  {
   "cell_type": "code",
   "execution_count": 12,
   "id": "19ec830d",
   "metadata": {},
   "outputs": [],
   "source": [
    "def predict(X, likelihood_spam, likelihood_ham, p_spam, p_ham):\n",
    "    predicts = np.zeros(X.shape[0])\n",
    "    x = 0\n",
    "    for vector in X:\n",
    "        spam = p_spam\n",
    "        ham = p_ham\n",
    "        for a in range(vector.shape[0]):\n",
    "            if (vector[:, a] != 0):\n",
    "                spam = spam * likelihood_spam[:, a]\n",
    "                ham = ham * likelihood_ham[:, a]\n",
    "            else:\n",
    "                spam = spam * (1 - likelihood_spam[:, a])\n",
    "                ham = ham * (1 - likelihood_ham[:, a])\n",
    "        if (spam > ham):\n",
    "            predicts[x] = 1\n",
    "        x = x + 1\n",
    "    return predicts"
   ]
  },
  {
   "cell_type": "code",
   "execution_count": 9,
   "id": "c70d519e",
   "metadata": {},
   "outputs": [],
   "source": [
    "def train(X, y):\n",
    "    p_spam, p_ham = calculate_prior(y)\n",
    "    likelihood_spam, likelihood_ham = calculate_likelihood(X, y, p_spam, p_ham)\n",
    "    return likelihood_spam, likelihood_ham, p_spam, p_ham"
   ]
  },
  {
   "cell_type": "code",
   "execution_count": 18,
   "id": "47602fab",
   "metadata": {},
   "outputs": [],
   "source": [
    "def score(y_pred, y):\n",
    "    return (np.sum(y_pred == y)) / y_pred.shape[0]"
   ]
  },
  {
   "cell_type": "code",
   "execution_count": 16,
   "id": "569d5912",
   "metadata": {},
   "outputs": [],
   "source": [
    "X, y = transform_data(df)\n",
    "likelihood_spam, likelihood_ham, p_spam, p_ham = train(X, y)\n",
    "y_pred = predict(X, likelihood_spam, likelihood_ham, p_spam, p_ham)"
   ]
  },
  {
   "cell_type": "code",
   "execution_count": 19,
   "id": "25fb9b78",
   "metadata": {},
   "outputs": [
    {
     "data": {
      "text/plain": [
       "0.8677315147164394"
      ]
     },
     "execution_count": 19,
     "metadata": {},
     "output_type": "execute_result"
    }
   ],
   "source": [
    "score(y_pred, y)"
   ]
  }
 ],
 "metadata": {
  "kernelspec": {
   "display_name": "Python 3 (ipykernel)",
   "language": "python",
   "name": "python3"
  },
  "language_info": {
   "codemirror_mode": {
    "name": "ipython",
    "version": 3
   },
   "file_extension": ".py",
   "mimetype": "text/x-python",
   "name": "python",
   "nbconvert_exporter": "python",
   "pygments_lexer": "ipython3",
   "version": "3.11.5"
  }
 },
 "nbformat": 4,
 "nbformat_minor": 5
}
