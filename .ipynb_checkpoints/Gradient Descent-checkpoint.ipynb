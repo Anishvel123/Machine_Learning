{
 "cells": [
  {
   "cell_type": "code",
   "execution_count": 9,
   "id": "3883ae76",
   "metadata": {},
   "outputs": [],
   "source": [
    "import numpy as np\n",
    "\n",
    "learning_rate = 0.001\n",
    "m_val = 0\n",
    "c_val = 0\n",
    "iterations = 1000\n",
    "n = 5\n",
    "def gradient_descent(x, y):\n",
    "    for i in range(iterations):\n",
    "        y_predicted = m_val * x + c_val\n",
    "        s = 0\n",
    "        for j in range(0, 5): \n",
    "            s += (y[j] - y_predicted[i]) ** 2\n",
    "        cost = (1/n) * s\n",
    "        dm = -(2/n) * sum(x * (y - y_predicted))\n",
    "        db = -(2/n) * sum((y - y_predicted))\n",
    "        m_val = m_val - learning_rate * dm\n",
    "        c_val = c_val - learning_rate * db\n",
    "        print(\"m\", m_val, \"c\", c_val, \"cost\", cost)\n",
    "        \n",
    "x = np.array([1, 2, 3, 4, 5])\n",
    "y = np.array([5, 7, 9, 11, 13])"
   ]
  },
  {
   "cell_type": "code",
   "execution_count": null,
   "id": "383bc5fc",
   "metadata": {},
   "outputs": [],
   "source": []
  },
  {
   "cell_type": "code",
   "execution_count": null,
   "id": "0393423e",
   "metadata": {},
   "outputs": [],
   "source": []
  },
  {
   "cell_type": "code",
   "execution_count": null,
   "id": "240409c6",
   "metadata": {},
   "outputs": [],
   "source": []
  },
  {
   "cell_type": "code",
   "execution_count": null,
   "id": "01ec6134",
   "metadata": {},
   "outputs": [],
   "source": []
  }
 ],
 "metadata": {
  "kernelspec": {
   "display_name": "Python 3 (ipykernel)",
   "language": "python",
   "name": "python3"
  },
  "language_info": {
   "codemirror_mode": {
    "name": "ipython",
    "version": 3
   },
   "file_extension": ".py",
   "mimetype": "text/x-python",
   "name": "python",
   "nbconvert_exporter": "python",
   "pygments_lexer": "ipython3",
   "version": "3.11.5"
  }
 },
 "nbformat": 4,
 "nbformat_minor": 5
}
